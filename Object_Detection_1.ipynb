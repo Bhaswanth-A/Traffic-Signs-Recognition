{
 "cells": [
  {
   "cell_type": "code",
   "execution_count": 1,
   "id": "53072746",
   "metadata": {},
   "outputs": [],
   "source": [
    "N_CLASSES = 43\n",
    "RESIZED_IMAGE = (32,32) "
   ]
  },
  {
   "cell_type": "code",
   "execution_count": 20,
   "id": "1f92a2f8",
   "metadata": {
    "scrolled": true
   },
   "outputs": [
    {
     "name": "stdout",
     "output_type": "stream",
     "text": [
      "(39209, 43)\n",
      "(39209, 32, 32)\n",
      "(39209, 32, 32, 1)\n",
      "(39209, 43)\n"
     ]
    }
   ],
   "source": [
    "import matplotlib.pyplot as plt\n",
    "import glob\n",
    "from skimage.color import rgb2lab\n",
    "from skimage.transform import resize\n",
    "from collections import namedtuple\n",
    "import numpy as np\n",
    "np.random.seed(101)\n",
    "%matplotlib inline\n",
    "\n",
    "Dataset = namedtuple('Dataset',['X','y'])\n",
    "\n",
    "def to_tf_format(imgs):\n",
    "    return np.stack([img[:,:,np.newaxis] for img in imgs], axis=0).astype(np.float32)\n",
    "\n",
    "    \n",
    "def read_dataset_ppm(rootpath, n_labels, resize_to):\n",
    "    images = []\n",
    "    labels = []\n",
    "    \n",
    "    for c in range(n_labels):\n",
    "        full_path = rootpath + '/' + format(c,'05d') + '/'\n",
    "        \n",
    "        for img_name in glob.glob(full_path + '*.ppm'):\n",
    "            img = plt.imread(img_name).astype(np.float32) # 3 dims - rgb\n",
    "            img = rgb2lab(img / 255.0)[:,:,0] # removes 3rd dimension\n",
    "            \n",
    "            \n",
    "            if resize_to:\n",
    "                img = resize(img, resize_to, mode='reflect')\n",
    "                \n",
    "            label = np.zeros((n_labels,),dtype=np.float32)\n",
    "            label[c] = 1.0\n",
    "            images.append(img.astype(np.float32))\n",
    "            labels.append(label)\n",
    "    \n",
    "    print(np.array(labels).shape)\n",
    "    print(np.array(images).shape)\n",
    "    return Dataset(X=to_tf_format(images).astype(np.float32), y=np.array(labels).astype(np.float32))\n",
    "\n",
    "dataset = read_dataset_ppm('GTSRB_Final_Training_Images/GTSRB/Final_Training/Images', N_CLASSES, RESIZED_IMAGE)\n",
    "\n",
    "print(dataset.X.shape)\n",
    "print(dataset.y.shape)"
   ]
  },
  {
   "cell_type": "code",
   "execution_count": 21,
   "id": "66bcf719",
   "metadata": {},
   "outputs": [
    {
     "name": "stdout",
     "output_type": "stream",
     "text": [
      "[1. 0. 0. 0. 0. 0. 0. 0. 0. 0. 0. 0. 0. 0. 0. 0. 0. 0. 0. 0. 0. 0. 0. 0.\n",
      " 0. 0. 0. 0. 0. 0. 0. 0. 0. 0. 0. 0. 0. 0. 0. 0. 0. 0. 0.]\n"
     ]
    },
    {
     "data": {
      "image/png": "[encoded data removed]",
      "text/plain": [
       "<Figure size 432x288 with 1 Axes>"
      ]
     },
     "metadata": {
      "needs_background": "light"
     },
     "output_type": "display_data"
    }
   ],
   "source": [
    "plt.imshow(dataset.X[1,:,:,:].reshape(RESIZED_IMAGE))\n",
    "print(dataset.y[1,:])"
   ]
  },
  {
   "cell_type": "code",
   "execution_count": 39,
   "id": "aa96bbcd",
   "metadata": {},
   "outputs": [
    {
     "name": "stdout",
     "output_type": "stream",
     "text": [
      "[0. 0. 0. 0. 0. 0. 0. 0. 0. 0. 0. 0. 0. 0. 0. 0. 0. 0. 0. 0. 0. 0. 0. 0.\n",
      " 0. 0. 0. 0. 0. 0. 0. 0. 0. 0. 0. 0. 0. 0. 0. 0. 0. 0. 1.]\n"
     ]
    },
    {
     "data": {
      "image/png": "[encoded data removed]",
      "text/plain": [
       "<Figure size 432x288 with 1 Axes>"
      ]
     },
     "metadata": {
      "needs_background": "light"
     },
     "output_type": "display_data"
    }
   ],
   "source": [
    "plt.imshow(dataset.X[-1,:,:,:].reshape(RESIZED_IMAGE))\n",
    "print(dataset.y[-1,:])"
   ]
  },
  {
   "cell_type": "code",
   "execution_count": 40,
   "id": "ed1898e4",
   "metadata": {},
   "outputs": [
    {
     "name": "stdout",
     "output_type": "stream",
     "text": [
      "(29406, 32, 32, 1)\n",
      "(9803, 32, 32, 1)\n",
      "(29406, 43)\n",
      "(9803, 43)\n"
     ]
    }
   ],
   "source": [
    "from sklearn.model_selection import train_test_split\n",
    "\n",
    "idx_train, idx_test = train_test_split(range(dataset.X.shape[0]), test_size=0.25)\n",
    "\n",
    "X_train = dataset.X[idx_train,:,:]\n",
    "X_test = dataset.X[idx_test,:,:]\n",
    "y_train = dataset.y[idx_train,:]\n",
    "y_test = dataset.y[idx_test,:]\n",
    "\n",
    "print(X_train.shape)\n",
    "print(X_test.shape)\n",
    "print(y_train.shape)\n",
    "print(y_test.shape)"
   ]
  },
  {
   "cell_type": "code",
   "execution_count": 41,
   "id": "6d1e2257",
   "metadata": {},
   "outputs": [
    {
     "name": "stdout",
     "output_type": "stream",
     "text": [
      "(10000, 32, 32, 1) (10000, 43)\n",
      "(10000, 32, 32, 1) (10000, 43)\n",
      "(9406, 32, 32, 1) (9406, 43)\n"
     ]
    }
   ],
   "source": [
    "# Creating minibatches of training data\n",
    "\n",
    "n_samples = X_train.shape[0]\n",
    "\n",
    "def minibatcher(X, y, batch_size, shuffle):\n",
    "    assert X.shape[0] == y.shape[0]\n",
    "    \n",
    "    if shuffle:\n",
    "        idx = np.random.permutation(n_samples)\n",
    "    else:\n",
    "        idx = list(range(n_samples))\n",
    "    for k in range(int(np.ceil(n_samples/batch_size))):\n",
    "        from_idx = k * batch_size\n",
    "        to_idx = (k+1) * batch_size\n",
    "        yield X[idx[from_idx:to_idx],:,:,:], y[idx[from_idx:to_idx],:]\n",
    "        \n",
    "\n",
    "for mb in minibatcher(X_train, y_train, 10000, True):\n",
    "    print(mb[0].shape, mb[1].shape)"
   ]
  },
  {
   "cell_type": "code",
   "execution_count": 42,
   "id": "37f0c42e",
   "metadata": {},
   "outputs": [],
   "source": [
    "import tensorflow as tf\n",
    "\n",
    "def tf_no_activation_layer(in_tensors, n_units):\n",
    "    w = tf.compat.v1.get_variable(name='fc_W',\n",
    "                       shape=[in_tensors.get_shape()[1],n_units],\n",
    "                       dtype=tf.float32,\n",
    "                       initializer=tf.keras.initializers.glorot_normal())\n",
    "    b = tf.compat.v1.get_variable(name='fc_B',\n",
    "                       shape=[n_units,],\n",
    "                       dtype=tf.float32,\n",
    "                       initializer=tf.constant_initializer(0.0))\n",
    "    return tf.matmul(in_tensors, w) + b"
   ]
  },
  {
   "cell_type": "code",
   "execution_count": 43,
   "id": "50743f3c",
   "metadata": {},
   "outputs": [],
   "source": [
    "def fc_layer(in_tensors, n_units):\n",
    "    return tf.nn.leaky_relu(tf_no_activation_layer(in_tensors, n_units))"
   ]
  },
  {
   "cell_type": "code",
   "execution_count": 44,
   "id": "d0729455",
   "metadata": {},
   "outputs": [],
   "source": [
    "def conv_layer(in_tensors, kernel_size, n_units):\n",
    "    w = tf.compat.v1.get_variable(name='conv_W',\n",
    "                       shape=[kernel_size, kernel_size, in_tensors.shape[3], n_units],\n",
    "                       dtype=tf.float32,\n",
    "                       initializer=tf.keras.initializers.glorot_normal())\n",
    "    b = tf.compat.v1.get_variable(name='conv_B',\n",
    "                       shape=[n_units,],\n",
    "                       dtype=tf.float32,\n",
    "                       initializer=tf.constant_initializer(0.0))\n",
    "    return tf.nn.leaky_relu(tf.nn.conv2d(input=in_tensors, filters=w, strides=[1,1,1,1], padding='SAME') + b)"
   ]
  },
  {
   "cell_type": "code",
   "execution_count": 45,
   "id": "be10722b",
   "metadata": {},
   "outputs": [],
   "source": [
    "def maxpool_layer(in_tensors, sampling):\n",
    "    return tf.nn.max_pool(in_tensors, [1, sampling, sampling, 1], [1, sampling, sampling, 1], 'SAME')"
   ]
  },
  {
   "cell_type": "code",
   "execution_count": 46,
   "id": "dc0e2911",
   "metadata": {},
   "outputs": [],
   "source": [
    "def dropout(in_tensors, keep_proba, is_training):\n",
    "    return tf.cond(is_training, lambda: tf.nn.dropout(in_tensors, keep_proba), lambda: in_tensors)"
   ]
  },
  {
   "cell_type": "code",
   "execution_count": 60,
   "id": "b944303c",
   "metadata": {},
   "outputs": [],
   "source": [
    "def model(in_tensors, is_training):\n",
    "    \n",
    "    # First layer: 5x5 2d-conv, 32 filters, 2x maxpool, 20% drouput\n",
    "    with tf.variable_scope('l1', reuse=tf.AUTO_REUSE):\n",
    "        l1 = maxpool_layer(conv_layer(in_tensors, 5, 32), 2)\n",
    "        l1_out = dropout(l1, 0.8, is_training)\n",
    "        #print(l1_out)\n",
    "    \n",
    "    # Second layer: 5x5 2d-conv, 64 filters, 2x maxpool, 20% drouput\n",
    "    with tf.variable_scope('l2', reuse=tf.AUTO_REUSE):\n",
    "        l2 = maxpool_layer(conv_layer(in_tensors, 5, 64), 2)\n",
    "        l2_out = dropout(l2, 0.8, is_training)\n",
    "        #print(l2_out)\n",
    "        \n",
    "    with tf.variable_scope('flatten', reuse=tf.AUTO_REUSE):\n",
    "        l2_out_flat = tf.compat.v1.layers.flatten(l2_out)\n",
    "        #print(l2_out_flat.shape)\n",
    "        \n",
    "    # Fully collected layer, 1024 neurons, 40% dropout\n",
    "    with tf.variable_scope('l3', reuse=tf.AUTO_REUSE):\n",
    "        l3 = fc_layer(l2_out_flat, 1024)\n",
    "        #print(l3)\n",
    "        l3_out = dropout(l3, 0.6, is_training)\n",
    "        \n",
    "    # Output\n",
    "    with tf.variable_scope('out', reuse=tf.AUTO_REUSE):\n",
    "        out_tensors = tf_no_activation_layer(l3_out, N_CLASSES)\n",
    "        \n",
    "    return out_tensors"
   ]
  },
  {
   "cell_type": "code",
   "execution_count": 63,
   "id": "9378bd39",
   "metadata": {},
   "outputs": [],
   "source": [
    "from sklearn.metrics import classification_report, confusion_matrix\n",
    "import numpy as np\n",
    "\n",
    "def train_model(X_train, y_train, X_test, y_test, learning_rate, max_epochs, batch_size):\n",
    "    #tf.enable_eager_execution()\n",
    "    in_X_tensors_batch = tf.placeholder(tf.float32, shape=(None, RESIZED_IMAGE[0], RESIZED_IMAGE[1], 1))\n",
    "    in_y_tensors_batch = tf.placeholder(tf.float32, shape=(None, N_CLASSES))\n",
    "    is_training = tf.placeholder(tf.bool)\n",
    "    \n",
    "    #in_X_tensors_batch = tf.Variable(tf.zeros(shape=(RESIZED_IMAGE[0],RESIZED_IMAGE[1], 1))[None,:,:,:])\n",
    "    #print(in_X_tensors_batch)\n",
    "    #in_y_tensors_batch = tf.Variable(tf.zeros(shape=(N_CLASSES))[None,:])\n",
    "    #print(in_y_tensors_batch)\n",
    "    #is_training = True\n",
    "    \n",
    "    logits = model(in_X_tensors_batch, is_training)\n",
    "    out_y_pred = tf.nn.softmax(logits)\n",
    "    loss_score = tf.nn.softmax_cross_entropy_with_logits(logits=logits, labels=in_y_tensors_batch)\n",
    "    loss = tf.reduce_mean(loss_score)\n",
    "    optimizer = tf.train.AdamOptimizer(learning_rate).minimize(loss)\n",
    "    \n",
    "    with tf.compat.v1.Session() as session:\n",
    "        session.run(tf.global_variables_initializer())\n",
    "        for epoch in range(max_epochs):\n",
    "            print(\"Epoch=\", epoch)\n",
    "            tf_score = []\n",
    "            \n",
    "            for mb in minibatcher(X_train, y_train, batch_size, shuffle=True):\n",
    "                tf_output = session.run([optimizer, loss],\n",
    "                                       feed_dict={in_X_tensors_batch:mb[0],\n",
    "                                                 in_y_tensors_batch:mb[1],\n",
    "                                                 is_training:True})\n",
    "                tf_score.append(tf_output[1])\n",
    "            print(\"train_loss_score=\",np.mean(tf_score))\n",
    "            \n",
    "        print(\"TEST SET PERFORMANCE\")\n",
    "        y_test_pred, test_loss = session.run([out_y_pred, loss],\n",
    "                                            feed_dict={in_X_tensors_batch:X_test,\n",
    "                                                      in_y_tensors_batch:y_test,\n",
    "                                                      is_training:False})\n",
    "        \n",
    "        print(\" test_loss_score=\", test_loss)\n",
    "        y_test_pred_classified = np.argmax(y_test_pred, axis=1).astype(np.int32)\n",
    "        y_test_true_classified = np.argmax(y_test, axis=1).astype(np.int32)\n",
    "        print(classification_report(y_test_true_classified, y_test_pred_classified))\n",
    "        cm = confusion_matrix(y_test_true_classified, y_test_pred_classified)\n",
    "        plt.imshow(cm, interpolation='nearest', cmap=plt.cm.Blues)\n",
    "        plt.colorbar()\n",
    "        plt.tight_layout()\n",
    "        plt.show()\n",
    "        # And the log2 version, to enphasize the misclassifications\n",
    "        plt.imshow(np.log2(cm + 1), interpolation='nearest', cmap=plt.get_cmap(\"tab20\"))\n",
    "        plt.colorbar()\n",
    "        plt.tight_layout()\n",
    "        plt.show()\n",
    "        \n",
    "tf.compat.v1.reset_default_graph()"
   ]
  },
  {
   "cell_type": "code",
   "execution_count": 64,
   "id": "51553fee",
   "metadata": {},
   "outputs": [
    {
     "name": "stderr",
     "output_type": "stream",
     "text": [
      "/tmp/ipykernel_5076/3012722889.py:16: UserWarning: `tf.layers.flatten` is deprecated and will be removed in a future version. Please use `tf.keras.layers.Flatten` instead.\n",
      "  l2_out_flat = tf.compat.v1.layers.flatten(l2_out)\n"
     ]
    },
    {
     "name": "stdout",
     "output_type": "stream",
     "text": [
      "Epoch= 0\n",
      "train_loss_score= 8.22398\n",
      "Epoch= 1\n",
      "train_loss_score= 0.75492555\n",
      "Epoch= 2\n",
      "train_loss_score= 0.4979733\n",
      "Epoch= 3\n",
      "train_loss_score= 0.35807505\n",
      "Epoch= 4\n",
      "train_loss_score= 0.30108616\n",
      "Epoch= 5\n",
      "train_loss_score= 0.24204269\n",
      "Epoch= 6\n",
      "train_loss_score= 0.19051673\n",
      "Epoch= 7\n",
      "train_loss_score= 0.19227247\n",
      "Epoch= 8\n",
      "train_loss_score= 0.14815341\n",
      "Epoch= 9\n",
      "train_loss_score= 0.1493389\n",
      "TEST SET PERFORMANCE\n",
      " test_loss_score= 0.1622456\n",
      "              precision    recall  f1-score   support\n",
      "\n",
      "           0       1.00      0.94      0.97        67\n",
      "           1       0.91      0.99      0.95       539\n",
      "           2       0.96      0.96      0.96       558\n",
      "           3       0.95      0.93      0.94       364\n",
      "           4       0.99      0.97      0.98       487\n",
      "           5       0.95      0.96      0.96       479\n",
      "           6       1.00      1.00      1.00       105\n",
      "           7       0.95      0.99      0.97       364\n",
      "           8       0.99      0.93      0.96       340\n",
      "           9       0.98      0.99      0.99       384\n",
      "          10       0.99      0.97      0.98       513\n",
      "          11       0.99      0.96      0.98       334\n",
      "          12       0.99      0.97      0.98       545\n",
      "          13       0.97      1.00      0.99       537\n",
      "          14       0.98      0.99      0.99       213\n",
      "          15       0.98      0.99      0.99       164\n",
      "          16       1.00      1.00      1.00        98\n",
      "          17       0.99      0.99      0.99       281\n",
      "          18       0.98      0.97      0.97       286\n",
      "          19       0.98      0.95      0.96        56\n",
      "          20       0.94      0.97      0.96        78\n",
      "          21       0.95      0.94      0.94        95\n",
      "          22       1.00      0.95      0.97        97\n",
      "          23       0.99      0.93      0.96       123\n",
      "          24       0.95      1.00      0.97        77\n",
      "          25       0.94      0.98      0.96       401\n",
      "          26       0.93      1.00      0.96       135\n",
      "          27       0.94      1.00      0.97        60\n",
      "          28       0.98      0.98      0.98       123\n",
      "          29       0.97      0.93      0.95        69\n",
      "          30       0.97      0.96      0.96       115\n",
      "          31       0.98      0.97      0.98       178\n",
      "          32       0.96      0.96      0.96        55\n",
      "          33       0.99      0.99      0.99       177\n",
      "          34       0.97      0.98      0.98       103\n",
      "          35       0.99      0.96      0.98       277\n",
      "          36       0.95      0.99      0.97        78\n",
      "          37       1.00      0.94      0.97        63\n",
      "          38       1.00      0.97      0.99       540\n",
      "          39       0.95      1.00      0.98        60\n",
      "          40       0.92      0.95      0.94        85\n",
      "          41       1.00      0.94      0.97        47\n",
      "          42       1.00      0.98      0.99        53\n",
      "\n",
      "    accuracy                           0.97      9803\n",
      "   macro avg       0.97      0.97      0.97      9803\n",
      "weighted avg       0.97      0.97      0.97      9803\n",
      "\n"
     ]
    },
    {
     "data": {
      "image/png": "[encoded data removed]",
      "text/plain": [
       "<Figure size 432x288 with 2 Axes>"
      ]
     },
     "metadata": {
      "needs_background": "light"
     },
     "output_type": "display_data"
    },
    {
     "data": {
      "image/png": "[encoded data removed]",
      "text/plain": [
       "<Figure size 432x288 with 2 Axes>"
      ]
     },
     "metadata": {
      "needs_background": "light"
     },
     "output_type": "display_data"
    }
   ],
   "source": [
    "import tensorflow.compat.v1 as tf\n",
    "tf.disable_v2_behavior()\n",
    "train_model(X_train, y_train, X_test, y_test, 0.001, 10, 256)"
   ]
  }
 ],
 "metadata": {
  "kernelspec": {
   "display_name": "Python 3 (ipykernel)",
   "language": "python",
   "name": "python3"
  },
  "language_info": {
   "codemirror_mode": {
    "name": "ipython",
    "version": 3
   },
   "file_extension": ".py",
   "mimetype": "text/x-python",
   "name": "python",
   "nbconvert_exporter": "python",
   "pygments_lexer": "ipython3",
   "version": "3.8.10"
  }
 },
 "nbformat": 4,
 "nbformat_minor": 5
}
